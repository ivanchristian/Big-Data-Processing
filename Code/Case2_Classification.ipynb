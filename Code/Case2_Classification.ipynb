{
 "cells": [
  {
   "cell_type": "code",
   "execution_count": 50,
   "metadata": {},
   "outputs": [],
   "source": [
    "from pyspark.sql import SparkSession\n",
    "from pyspark.sql.functions import when\n",
    "from pyspark.ml.feature import VectorAssembler, StandardScaler\n",
    "from pyspark.ml.classification import LogisticRegression\n",
    "from pyspark.ml.evaluation import BinaryClassificationEvaluator"
   ]
  },
  {
   "cell_type": "code",
   "execution_count": 51,
   "metadata": {},
   "outputs": [],
   "source": [
    "spark = SparkSession.builder.getOrCreate()"
   ]
  },
  {
   "cell_type": "code",
   "execution_count": 52,
   "metadata": {},
   "outputs": [],
   "source": [
    "df_train = spark.read.csv(\"Planet_Training.csv\", header=True, inferSchema=True)\n",
    "df_train = df_train.select(\"Temperature\", \"Atmosphere Color\", \"Water\", \"Habitable\")\n",
    "df_train = df_train.na.drop()"
   ]
  },
  {
   "cell_type": "code",
   "execution_count": 53,
   "metadata": {},
   "outputs": [
    {
     "name": "stdout",
     "output_type": "stream",
     "text": [
      "+-----------+----------------+------+---------+\n",
      "|Temperature|Atmosphere Color| Water|Habitable|\n",
      "+-----------+----------------+------+---------+\n",
      "|     323488|          Yellow|Medium|        1|\n",
      "|     319279|          Yellow|   Low|        1|\n",
      "|     315375|          Yellow|   Low|        1|\n",
      "|     302312|          Yellow|Medium|        1|\n",
      "|     329687|          Yellow|   Low|        1|\n",
      "|     265746|             Red|  High|        0|\n",
      "|     305214|          Yellow|  High|        1|\n",
      "|     299936|          Yellow|  High|        0|\n",
      "|     269577|             Red|Medium|        1|\n",
      "|     303631|             Red|  High|        0|\n",
      "|     290051|             Red|  High|        0|\n",
      "|     306122|          Yellow|   Low|        1|\n",
      "|     300635|          Yellow|   Low|        1|\n",
      "|     312152|            Blue|  High|        0|\n",
      "|     265942|            Blue|Medium|        0|\n",
      "|     307368|             Red|  High|        0|\n",
      "|     276274|          Yellow|Medium|        1|\n",
      "|     308531|          Yellow|Medium|        1|\n",
      "|     329561|          Yellow|   Low|        1|\n",
      "|     327860|          Yellow|Medium|        1|\n",
      "+-----------+----------------+------+---------+\n",
      "only showing top 20 rows\n",
      "\n"
     ]
    }
   ],
   "source": [
    "df_train.show()"
   ]
  },
  {
   "cell_type": "code",
   "execution_count": 54,
   "metadata": {},
   "outputs": [],
   "source": [
    "df_test = spark.read.csv(\"Planet_Testing.csv\", header=True, inferSchema=True)\n",
    "df_test = df_test.select(\"Temperature\", \"Atmosphere Color\", \"Water\", \"Habitable\")\n",
    "df_test = df_test.na.drop()"
   ]
  },
  {
   "cell_type": "code",
   "execution_count": 55,
   "metadata": {},
   "outputs": [
    {
     "name": "stdout",
     "output_type": "stream",
     "text": [
      "+-----------+----------------+------+---------+\n",
      "|Temperature|Atmosphere Color| Water|Habitable|\n",
      "+-----------+----------------+------+---------+\n",
      "|     325145|          Yellow|  High|        1|\n",
      "|     269079|             Red|Medium|        0|\n",
      "|     302996|          Yellow|  High|        1|\n",
      "|     312604|          Yellow|  High|        1|\n",
      "|     280875|          Yellow|   Low|        1|\n",
      "|     306384|             Red|  High|        0|\n",
      "|     303007|          Yellow|  High|        1|\n",
      "|     297965|             Red|  High|        0|\n",
      "|     290305|            Blue|  High|        0|\n",
      "|     316596|             Red|  High|        0|\n",
      "|     266840|          Yellow|   Low|        1|\n",
      "|     324187|          Yellow|   Low|        1|\n",
      "|     327198|          Yellow|   Low|        1|\n",
      "|     310018|          Yellow|  High|        0|\n",
      "|     302718|            Blue|  High|        1|\n",
      "|     301697|          Yellow|   Low|        1|\n",
      "|     316071|          Yellow|Medium|        1|\n",
      "|     271765|          Yellow|   Low|        1|\n",
      "|     269497|            Blue|  High|        0|\n",
      "|     311830|             Red|  High|        0|\n",
      "+-----------+----------------+------+---------+\n",
      "only showing top 20 rows\n",
      "\n"
     ]
    }
   ],
   "source": [
    "df_test.show()"
   ]
  },
  {
   "cell_type": "code",
   "execution_count": 56,
   "metadata": {},
   "outputs": [],
   "source": [
    "def parse(df):\n",
    "    df = df.withColumn(\"Atmosphere Color\", when(df[\"Atmosphere Color\"]==\"Red\",0).when(df[\"Atmosphere Color\"]==\"Blue\",1).when(df[\"Atmosphere Color\"]==\"Yellow\",2))\n",
    "    df = df.withColumn(\"Water\", when(df[\"Water\"]==\"Low\",0).when(df[\"Water\"]==\"Medium\",1).when(df[\"Water\"]==\"High\",2))\n",
    "    \n",
    "    cols = df.columns\n",
    "    cols.remove(\"Habitable\")\n",
    "    df = VectorAssembler(inputCols = cols, outputCol = \"Features\").transform(df)\n",
    "    \n",
    "    scaler = StandardScaler(inputCol = \"Features\", outputCol = \"Scaled_Features\")\n",
    "    df = scaler.fit(df).transform(df)\n",
    "    \n",
    "    return df"
   ]
  },
  {
   "cell_type": "code",
   "execution_count": 57,
   "metadata": {},
   "outputs": [],
   "source": [
    "df_train = parse(df_train)\n",
    "df_test = parse(df_test)"
   ]
  },
  {
   "cell_type": "code",
   "execution_count": 60,
   "metadata": {},
   "outputs": [],
   "source": [
    "model = LogisticRegression(featuresCol = \"Scaled_Features\", labelCol = \"Habitable\", maxIter=10).fit(df_train)\n",
    "\n",
    "prediction = model.transform(df_test)"
   ]
  },
  {
   "cell_type": "code",
   "execution_count": 61,
   "metadata": {},
   "outputs": [
    {
     "name": "stdout",
     "output_type": "stream",
     "text": [
      "Accuracy: 91.71043337232418%\n"
     ]
    }
   ],
   "source": [
    "evaluator = BinaryClassificationEvaluator(labelCol=\"Habitable\")\n",
    "acc = evaluator.evaluate(prediction) * 100\n",
    "print(\"Accuracy: {}%\".format(acc))"
   ]
  },
  {
   "cell_type": "code",
   "execution_count": null,
   "metadata": {},
   "outputs": [],
   "source": []
  }
 ],
 "metadata": {
  "kernelspec": {
   "display_name": "Python 3",
   "language": "python",
   "name": "python3"
  },
  "language_info": {
   "codemirror_mode": {
    "name": "ipython",
    "version": 3
   },
   "file_extension": ".py",
   "mimetype": "text/x-python",
   "name": "python",
   "nbconvert_exporter": "python",
   "pygments_lexer": "ipython3",
   "version": "3.7.7"
  }
 },
 "nbformat": 4,
 "nbformat_minor": 4
}
