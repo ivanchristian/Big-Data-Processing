{
 "cells": [
  {
   "cell_type": "code",
   "execution_count": 1,
   "metadata": {},
   "outputs": [],
   "source": [
    "from pyspark.sql import SparkSession\n",
    "import matplotlib.pyplot as plt"
   ]
  },
  {
   "cell_type": "code",
   "execution_count": 2,
   "metadata": {},
   "outputs": [],
   "source": [
    "spark = SparkSession.builder.getOrCreate()"
   ]
  },
  {
   "cell_type": "code",
   "execution_count": 4,
   "metadata": {},
   "outputs": [],
   "source": [
    "msnpc = spark.read.csv(\"Documents/Visualization/MsNPC.csv\", header=True, inferSchema=True)\n",
    "msplayer = spark.read.csv(\"Documents/Visualization/MsPlayer.csv\", header=True, inferSchema=True)\n",
    "msweapon = spark.read.csv(\"Documents/Visualization/MsWeapon.csv\", header=True, inferSchema=True)\n",
    "msweapontype = spark.read.csv(\"Documents/Visualization/MsWeaponType.csv\", header=True, inferSchema=True)\n",
    "transactiondetail = spark.read.csv(\"Documents/Visualization/TransactionDetail.csv\", header=True, inferSchema=True)\n",
    "transactionheader = spark.read.csv(\"Documents/Visualization/TransactionHeader.csv\", header=True, inferSchema=True)\n",
    "\n",
    "msnpc.registerTempTable(\"MsNPC\")\n",
    "msplayer.registerTempTable(\"MsPlayer\")\n",
    "msweapon.registerTempTable(\"MsWeapon\")\n",
    "msweapontype.registerTempTable(\"MsWeaponType\")\n",
    "transactiondetail.registerTempTable(\"TransactionDetail\")\n",
    "transactionheader.registerTempTable(\"TransactionHeader\")"
   ]
  },
  {
   "cell_type": "code",
   "execution_count": 16,
   "metadata": {},
   "outputs": [
    {
     "name": "stdout",
     "output_type": "stream",
     "text": [
      "+--------------+-----------+\n",
      "|WeaponTypeName|WeaponCount|\n",
      "+--------------+-----------+\n",
      "|        Scythe|         45|\n",
      "|         Flail|         59|\n",
      "|         Sword|         59|\n",
      "|           Bow|         66|\n",
      "|           Axe|         70|\n",
      "+--------------+-----------+\n",
      "\n"
     ]
    }
   ],
   "source": [
    "res1 = spark.sql(\"\"\"SELECT MWT.WeaponTypeName, COUNT(TD.WeaponId) as WeaponCount \n",
    "                    FROM MsWeaponType MWT JOIN MsWeapon MW ON MWT.WeaponTypeId = MW.WeaponTypeId JOIN TransactionDetail TD ON MW.WeaponId = TD.WeaponId JOIN TransactionHeader TH ON TD.TransactionId = TH.TransactionId \n",
    "                    WHERE YEAR(TH.TransactionDate) = 2019 \n",
    "                    GROUP BY MWT.WeaponTypeName \n",
    "                    ORDER BY WeaponCount\"\"\")\n",
    "res1.show()"
   ]
  },
  {
   "cell_type": "code",
   "execution_count": 29,
   "metadata": {},
   "outputs": [],
   "source": [
    "res1 = res1.toPandas()"
   ]
  },
  {
   "cell_type": "code",
   "execution_count": 30,
   "metadata": {},
   "outputs": [
    {
     "data": {
      "text/html": [
       "<div>\n",
       "<style scoped>\n",
       "    .dataframe tbody tr th:only-of-type {\n",
       "        vertical-align: middle;\n",
       "    }\n",
       "\n",
       "    .dataframe tbody tr th {\n",
       "        vertical-align: top;\n",
       "    }\n",
       "\n",
       "    .dataframe thead th {\n",
       "        text-align: right;\n",
       "    }\n",
       "</style>\n",
       "<table border=\"1\" class=\"dataframe\">\n",
       "  <thead>\n",
       "    <tr style=\"text-align: right;\">\n",
       "      <th></th>\n",
       "      <th>WeaponTypeName</th>\n",
       "      <th>WeaponCount</th>\n",
       "    </tr>\n",
       "  </thead>\n",
       "  <tbody>\n",
       "    <tr>\n",
       "      <th>0</th>\n",
       "      <td>Scythe</td>\n",
       "      <td>45</td>\n",
       "    </tr>\n",
       "    <tr>\n",
       "      <th>1</th>\n",
       "      <td>Sword</td>\n",
       "      <td>59</td>\n",
       "    </tr>\n",
       "    <tr>\n",
       "      <th>2</th>\n",
       "      <td>Flail</td>\n",
       "      <td>59</td>\n",
       "    </tr>\n",
       "    <tr>\n",
       "      <th>3</th>\n",
       "      <td>Bow</td>\n",
       "      <td>66</td>\n",
       "    </tr>\n",
       "    <tr>\n",
       "      <th>4</th>\n",
       "      <td>Axe</td>\n",
       "      <td>70</td>\n",
       "    </tr>\n",
       "  </tbody>\n",
       "</table>\n",
       "</div>"
      ],
      "text/plain": [
       "  WeaponTypeName  WeaponCount\n",
       "0         Scythe           45\n",
       "1          Sword           59\n",
       "2          Flail           59\n",
       "3            Bow           66\n",
       "4            Axe           70"
      ]
     },
     "execution_count": 30,
     "metadata": {},
     "output_type": "execute_result"
    }
   ],
   "source": [
    "res1"
   ]
  },
  {
   "cell_type": "code",
   "execution_count": 31,
   "metadata": {},
   "outputs": [
    {
     "data": {
      "image/png": "[encoded data removed]",
      "text/plain": [
       "<Figure size 432x288 with 1 Axes>"
      ]
     },
     "metadata": {},
     "output_type": "display_data"
    }
   ],
   "source": [
    "plt.title(\"Weapon Type Revenue Distribution In 2019\")\n",
    "plt.pie(res1[\"WeaponCount\"], labels=res1[\"WeaponTypeName\"], autopct=\"%.2f\")\n",
    "plt.show()"
   ]
  },
  {
   "cell_type": "code",
   "execution_count": 36,
   "metadata": {},
   "outputs": [
    {
     "name": "stdout",
     "output_type": "stream",
     "text": [
      "+-----------+-----+\n",
      "|PlayerCount|Month|\n",
      "+-----------+-----+\n",
      "|         11|    1|\n",
      "|         10|    2|\n",
      "|          7|    3|\n",
      "|          8|    4|\n",
      "|          5|    5|\n",
      "|         11|    6|\n",
      "|         10|    7|\n",
      "|          9|    8|\n",
      "|          3|    9|\n",
      "|         12|   10|\n",
      "|          4|   11|\n",
      "|          9|   12|\n",
      "+-----------+-----+\n",
      "\n"
     ]
    }
   ],
   "source": [
    "res2 = spark.sql(\"\"\"SELECT COUNT(DISTINCT TH.PlayerId) as PlayerCount, MONTH(TH.TransactionDate) as Month \n",
    "                    FROM TransactionHeader TH JOIN TransactionDetail TD ON TH.TransactionId = TD.TransactionId JOIN MsWeapon MW ON TD.WeaponId = MW.WeaponId JOIN MsWeaponType MWT ON MW.WeaponTypeId = MWT.WeaponTypeId \n",
    "                    WHERE YEAR(TH.TransactionDate) = 2019 \n",
    "                    GROUP BY MONTH(TH.TransactionDate) \n",
    "                    ORDER BY MONTH(TH.TransactionDate)\"\"\")\n",
    "res2.show()"
   ]
  },
  {
   "cell_type": "code",
   "execution_count": 37,
   "metadata": {},
   "outputs": [],
   "source": [
    "res2 = res2.toPandas()"
   ]
  },
  {
   "cell_type": "code",
   "execution_count": 38,
   "metadata": {},
   "outputs": [
    {
     "data": {
      "text/html": [
       "<div>\n",
       "<style scoped>\n",
       "    .dataframe tbody tr th:only-of-type {\n",
       "        vertical-align: middle;\n",
       "    }\n",
       "\n",
       "    .dataframe tbody tr th {\n",
       "        vertical-align: top;\n",
       "    }\n",
       "\n",
       "    .dataframe thead th {\n",
       "        text-align: right;\n",
       "    }\n",
       "</style>\n",
       "<table border=\"1\" class=\"dataframe\">\n",
       "  <thead>\n",
       "    <tr style=\"text-align: right;\">\n",
       "      <th></th>\n",
       "      <th>PlayerCount</th>\n",
       "      <th>Month</th>\n",
       "    </tr>\n",
       "  </thead>\n",
       "  <tbody>\n",
       "    <tr>\n",
       "      <th>0</th>\n",
       "      <td>11</td>\n",
       "      <td>1</td>\n",
       "    </tr>\n",
       "    <tr>\n",
       "      <th>1</th>\n",
       "      <td>10</td>\n",
       "      <td>2</td>\n",
       "    </tr>\n",
       "    <tr>\n",
       "      <th>2</th>\n",
       "      <td>7</td>\n",
       "      <td>3</td>\n",
       "    </tr>\n",
       "    <tr>\n",
       "      <th>3</th>\n",
       "      <td>8</td>\n",
       "      <td>4</td>\n",
       "    </tr>\n",
       "    <tr>\n",
       "      <th>4</th>\n",
       "      <td>5</td>\n",
       "      <td>5</td>\n",
       "    </tr>\n",
       "    <tr>\n",
       "      <th>5</th>\n",
       "      <td>11</td>\n",
       "      <td>6</td>\n",
       "    </tr>\n",
       "    <tr>\n",
       "      <th>6</th>\n",
       "      <td>10</td>\n",
       "      <td>7</td>\n",
       "    </tr>\n",
       "    <tr>\n",
       "      <th>7</th>\n",
       "      <td>9</td>\n",
       "      <td>8</td>\n",
       "    </tr>\n",
       "    <tr>\n",
       "      <th>8</th>\n",
       "      <td>3</td>\n",
       "      <td>9</td>\n",
       "    </tr>\n",
       "    <tr>\n",
       "      <th>9</th>\n",
       "      <td>12</td>\n",
       "      <td>10</td>\n",
       "    </tr>\n",
       "    <tr>\n",
       "      <th>10</th>\n",
       "      <td>4</td>\n",
       "      <td>11</td>\n",
       "    </tr>\n",
       "    <tr>\n",
       "      <th>11</th>\n",
       "      <td>9</td>\n",
       "      <td>12</td>\n",
       "    </tr>\n",
       "  </tbody>\n",
       "</table>\n",
       "</div>"
      ],
      "text/plain": [
       "    PlayerCount  Month\n",
       "0            11      1\n",
       "1            10      2\n",
       "2             7      3\n",
       "3             8      4\n",
       "4             5      5\n",
       "5            11      6\n",
       "6            10      7\n",
       "7             9      8\n",
       "8             3      9\n",
       "9            12     10\n",
       "10            4     11\n",
       "11            9     12"
      ]
     },
     "execution_count": 38,
     "metadata": {},
     "output_type": "execute_result"
    }
   ],
   "source": [
    "res2"
   ]
  },
  {
   "cell_type": "code",
   "execution_count": 39,
   "metadata": {},
   "outputs": [
    {
     "data": {
      "image/png": "[encoded data removed]",
      "text/plain": [
       "<Figure size 432x288 with 1 Axes>"
      ]
     },
     "metadata": {
      "needs_background": "light"
     },
     "output_type": "display_data"
    }
   ],
   "source": [
    "plt.plot(res2[\"PlayerCount\"])\n",
    "plt.xticks(range(len(res2[\"Month\"])), res2[\"Month\"])\n",
    "plt.title(\"Axe Buyer in 2019 Statistics\")\n",
    "plt.xlabel(\"Month\")\n",
    "plt.ylabel(\"PlayerCount\")\n",
    "plt.show()"
   ]
  },
  {
   "cell_type": "code",
   "execution_count": 124,
   "metadata": {
    "scrolled": true
   },
   "outputs": [
    {
     "name": "stdout",
     "output_type": "stream",
     "text": [
      "+---------------+---------+\n",
      "|MonthlySpending|Frequency|\n",
      "+---------------+---------+\n",
      "|  Storm Breaker|       17|\n",
      "|     Extinction|        7|\n",
      "|      Nightfall|        9|\n",
      "+---------------+---------+\n",
      "\n"
     ]
    }
   ],
   "source": [
    "res3 = spark.sql(\"\"\"SELECT x.MonthlySpending, COUNT(x.MonthlySpending) as Frequency\n",
    "                    FROM(\n",
    "                    SELECT \n",
    "                    CASE \n",
    "                    WHEN SUM(TD.Quantity*MW.WeaponPrice) BETWEEN 1000000 AND 1499999 THEN 'Storm Breaker' \n",
    "                    WHEN SUM(TD.Quantity*MW.WeaponPrice) BETWEEN 1500000 AND 1999999 THEN 'Nightfall' \n",
    "                    WHEN SUM(TD.Quantity*MW.WeaponPrice) > 2000000 THEN 'Extinction' \n",
    "                    ELSE NULL \n",
    "                    END AS MonthlySpending\n",
    "                    FROM MsPlayer MP JOIN TransactionHeader TH ON MP.PlayerId = TH.PlayerId\n",
    "                    JOIN TransactionDetail TD ON TH.TransactionId = TD.TransactionId JOIN MsWeapon MW ON TD.WeaponId = MW.WeaponId\n",
    "                    WHERE YEAR(TH.TransactionDate) = 2019 AND MP.PlayerGender LIKE 'Female'\n",
    "                    GROUP BY TH.PlayerId, TH.TransactionDate\n",
    "                    HAVING SUM(TD.Quantity*MW.WeaponPrice) >= 1000000) AS x\n",
    "                    GROUP BY x.MonthlySpending\"\"\") \n",
    "res3.show()\n"
   ]
  },
  {
   "cell_type": "code",
   "execution_count": 125,
   "metadata": {},
   "outputs": [],
   "source": [
    "res3 = res3.toPandas()"
   ]
  },
  {
   "cell_type": "code",
   "execution_count": 126,
   "metadata": {},
   "outputs": [
    {
     "data": {
      "text/html": [
       "<div>\n",
       "<style scoped>\n",
       "    .dataframe tbody tr th:only-of-type {\n",
       "        vertical-align: middle;\n",
       "    }\n",
       "\n",
       "    .dataframe tbody tr th {\n",
       "        vertical-align: top;\n",
       "    }\n",
       "\n",
       "    .dataframe thead th {\n",
       "        text-align: right;\n",
       "    }\n",
       "</style>\n",
       "<table border=\"1\" class=\"dataframe\">\n",
       "  <thead>\n",
       "    <tr style=\"text-align: right;\">\n",
       "      <th></th>\n",
       "      <th>MonthlySpending</th>\n",
       "      <th>Frequency</th>\n",
       "    </tr>\n",
       "  </thead>\n",
       "  <tbody>\n",
       "    <tr>\n",
       "      <th>0</th>\n",
       "      <td>Storm Breaker</td>\n",
       "      <td>17</td>\n",
       "    </tr>\n",
       "    <tr>\n",
       "      <th>1</th>\n",
       "      <td>Extinction</td>\n",
       "      <td>7</td>\n",
       "    </tr>\n",
       "    <tr>\n",
       "      <th>2</th>\n",
       "      <td>Nightfall</td>\n",
       "      <td>9</td>\n",
       "    </tr>\n",
       "  </tbody>\n",
       "</table>\n",
       "</div>"
      ],
      "text/plain": [
       "  MonthlySpending  Frequency\n",
       "0   Storm Breaker         17\n",
       "1      Extinction          7\n",
       "2       Nightfall          9"
      ]
     },
     "execution_count": 126,
     "metadata": {},
     "output_type": "execute_result"
    }
   ],
   "source": [
    "res3"
   ]
  },
  {
   "cell_type": "code",
   "execution_count": 128,
   "metadata": {},
   "outputs": [
    {
     "data": {
      "image/png": "[encoded data removed]",
      "text/plain": [
       "<Figure size 432x288 with 1 Axes>"
      ]
     },
     "metadata": {
      "needs_background": "light"
     },
     "output_type": "display_data"
    }
   ],
   "source": [
    "plt.bar(res3[\"MonthlySpending\"], res3[\"Frequency\"])\n",
    "plt.title(\"Frequency of Special Weapon Distributed to Female in 2019\")\n",
    "plt.xlabel(\"WeaponName\")\n",
    "plt.ylabel(\"Frequency\")\n",
    "plt.show()"
   ]
  },
  {
   "cell_type": "code",
   "execution_count": 206,
   "metadata": {},
   "outputs": [
    {
     "name": "stdout",
     "output_type": "stream",
     "text": [
      "+-----------+-----+\n",
      "|PlayerCount|Month|\n",
      "+-----------+-----+\n",
      "|          6|    1|\n",
      "|          5|    2|\n",
      "|          4|    3|\n",
      "|          3|    4|\n",
      "|          3|    5|\n",
      "|          3|    6|\n",
      "|          5|    7|\n",
      "|          2|    8|\n",
      "|          1|    9|\n",
      "|          5|   10|\n",
      "|          2|   11|\n",
      "|          5|   12|\n",
      "+-----------+-----+\n",
      "\n"
     ]
    }
   ],
   "source": [
    "res4 = spark.sql(\"\"\"SELECT COUNT(y.PlayerId) as PlayerCount, y.Month \n",
    "                    FROM\n",
    "                    (SELECT x.PlayerId, COUNT(*) as How_much_type_per_player, x.Month\n",
    "                    FROM\n",
    "                    (SELECT WeaponTypeId, PlayerId, MONTH(TransactionDate) as Month\n",
    "                    FROM TransactionHeader TH JOIN TransactionDetail TD ON TH.TransactionId = TD.TransactionId  \n",
    "                    JOIN MsWeapon MW ON TD.WeaponId = MW.WeaponId\n",
    "                    GROUP BY WeaponTypeId, PlayerId, Month) AS x\n",
    "                    GROUP BY x.PlayerId, x.Month\n",
    "                    HAVING COUNT(*) > 2) AS y\n",
    "                    GROUP BY y.Month\n",
    "                    ORDER BY Month\n",
    "                    \"\"\")\n",
    "res4.show()"
   ]
  },
  {
   "cell_type": "code",
   "execution_count": 207,
   "metadata": {},
   "outputs": [],
   "source": [
    "res4 = res4.toPandas()"
   ]
  },
  {
   "cell_type": "code",
   "execution_count": 208,
   "metadata": {},
   "outputs": [
    {
     "data": {
      "text/html": [
       "<div>\n",
       "<style scoped>\n",
       "    .dataframe tbody tr th:only-of-type {\n",
       "        vertical-align: middle;\n",
       "    }\n",
       "\n",
       "    .dataframe tbody tr th {\n",
       "        vertical-align: top;\n",
       "    }\n",
       "\n",
       "    .dataframe thead th {\n",
       "        text-align: right;\n",
       "    }\n",
       "</style>\n",
       "<table border=\"1\" class=\"dataframe\">\n",
       "  <thead>\n",
       "    <tr style=\"text-align: right;\">\n",
       "      <th></th>\n",
       "      <th>PlayerCount</th>\n",
       "      <th>Month</th>\n",
       "    </tr>\n",
       "  </thead>\n",
       "  <tbody>\n",
       "    <tr>\n",
       "      <th>0</th>\n",
       "      <td>6</td>\n",
       "      <td>1</td>\n",
       "    </tr>\n",
       "    <tr>\n",
       "      <th>1</th>\n",
       "      <td>5</td>\n",
       "      <td>2</td>\n",
       "    </tr>\n",
       "    <tr>\n",
       "      <th>2</th>\n",
       "      <td>4</td>\n",
       "      <td>3</td>\n",
       "    </tr>\n",
       "    <tr>\n",
       "      <th>3</th>\n",
       "      <td>3</td>\n",
       "      <td>4</td>\n",
       "    </tr>\n",
       "    <tr>\n",
       "      <th>4</th>\n",
       "      <td>3</td>\n",
       "      <td>5</td>\n",
       "    </tr>\n",
       "    <tr>\n",
       "      <th>5</th>\n",
       "      <td>3</td>\n",
       "      <td>6</td>\n",
       "    </tr>\n",
       "    <tr>\n",
       "      <th>6</th>\n",
       "      <td>5</td>\n",
       "      <td>7</td>\n",
       "    </tr>\n",
       "    <tr>\n",
       "      <th>7</th>\n",
       "      <td>2</td>\n",
       "      <td>8</td>\n",
       "    </tr>\n",
       "    <tr>\n",
       "      <th>8</th>\n",
       "      <td>1</td>\n",
       "      <td>9</td>\n",
       "    </tr>\n",
       "    <tr>\n",
       "      <th>9</th>\n",
       "      <td>5</td>\n",
       "      <td>10</td>\n",
       "    </tr>\n",
       "    <tr>\n",
       "      <th>10</th>\n",
       "      <td>2</td>\n",
       "      <td>11</td>\n",
       "    </tr>\n",
       "    <tr>\n",
       "      <th>11</th>\n",
       "      <td>5</td>\n",
       "      <td>12</td>\n",
       "    </tr>\n",
       "  </tbody>\n",
       "</table>\n",
       "</div>"
      ],
      "text/plain": [
       "    PlayerCount  Month\n",
       "0             6      1\n",
       "1             5      2\n",
       "2             4      3\n",
       "3             3      4\n",
       "4             3      5\n",
       "5             3      6\n",
       "6             5      7\n",
       "7             2      8\n",
       "8             1      9\n",
       "9             5     10\n",
       "10            2     11\n",
       "11            5     12"
      ]
     },
     "execution_count": 208,
     "metadata": {},
     "output_type": "execute_result"
    }
   ],
   "source": [
    "res4"
   ]
  },
  {
   "cell_type": "code",
   "execution_count": 209,
   "metadata": {},
   "outputs": [
    {
     "data": {
      "image/png": "[encoded data removed]",
      "text/plain": [
       "<Figure size 432x288 with 1 Axes>"
      ]
     },
     "metadata": {
      "needs_background": "light"
     },
     "output_type": "display_data"
    }
   ],
   "source": [
    "plt.plot(res4[\"PlayerCount\"])\n",
    "plt.xticks(range(len(res2[\"Month\"])), res2[\"Month\"])\n",
    "plt.title(\"Players in 2019 Who Bought At Least 3 Different Weapon Type In A Month\")\n",
    "plt.xlabel(\"Month\")\n",
    "plt.ylabel(\"PlayerCount\")\n",
    "plt.show()"
   ]
  },
  {
   "cell_type": "code",
   "execution_count": 203,
   "metadata": {},
   "outputs": [
    {
     "name": "stdout",
     "output_type": "stream",
     "text": [
      "+-------------+---------+\n",
      "|  TotalIncome|Frequency|\n",
      "+-------------+---------+\n",
      "|Quite Popular|        2|\n",
      "|      Popular|        8|\n",
      "| Very Popular|        2|\n",
      "+-------------+---------+\n",
      "\n"
     ]
    }
   ],
   "source": [
    "res5 = spark.sql(\"\"\"SELECT z.TotalIncome, COUNT(z.TotalIncome) as Frequency\n",
    "                    FROM\n",
    "                    (SELECT CASE\n",
    "                        WHEN y.Total_Tiap_NPC >= 15000000 THEN 'Very Popular' \n",
    "                        WHEN y.Total_Tiap_NPC BETWEEN 7500000 AND 14999999 THEN 'Popular' \n",
    "                        WHEN y.Total_Tiap_NPC BETWEEN 2500000 AND 7499999 THEN 'Quite Popular' \n",
    "                        ELSE 'Not Popular'\n",
    "                    END AS TotalIncome\n",
    "                    FROM\n",
    "                    (SELECT x.NPC, COUNT(x.PlayerId), SUM(x.Total_Tiap_User) AS Total_Tiap_NPC\n",
    "                    FROM\n",
    "                    (SELECT TH.NPCId as NPC, TH.PlayerId, SUM(Quantity * WeaponPrice) as Total_Tiap_User\n",
    "                    FROM MsNPC MN JOIN TransactionHeader TH ON MN.NPCId = TH.NPCId JOIN TransactionDetail TD ON TH.TransactionId = TD.TransactionId  \n",
    "                    JOIN MsWeapon MW ON TD.WeaponId = MW.WeaponId \n",
    "                    GROUP BY TH.NPCId, TH.PlayerId) AS x\n",
    "                    GROUP BY x.NPC\n",
    "                    HAVING COUNT(x.PlayerId) > 4\n",
    "                    ORDER BY x.NPC DESC) as y) as z\n",
    "                    GROUP BY z.TotalIncome\n",
    "                    \"\"\")\n",
    "res5.show()"
   ]
  },
  {
   "cell_type": "code",
   "execution_count": 198,
   "metadata": {},
   "outputs": [],
   "source": [
    "res5 = res5.toPandas()"
   ]
  },
  {
   "cell_type": "code",
   "execution_count": 199,
   "metadata": {},
   "outputs": [
    {
     "data": {
      "text/html": [
       "<div>\n",
       "<style scoped>\n",
       "    .dataframe tbody tr th:only-of-type {\n",
       "        vertical-align: middle;\n",
       "    }\n",
       "\n",
       "    .dataframe tbody tr th {\n",
       "        vertical-align: top;\n",
       "    }\n",
       "\n",
       "    .dataframe thead th {\n",
       "        text-align: right;\n",
       "    }\n",
       "</style>\n",
       "<table border=\"1\" class=\"dataframe\">\n",
       "  <thead>\n",
       "    <tr style=\"text-align: right;\">\n",
       "      <th></th>\n",
       "      <th>TotalIncome</th>\n",
       "      <th>Frequency</th>\n",
       "    </tr>\n",
       "  </thead>\n",
       "  <tbody>\n",
       "    <tr>\n",
       "      <th>0</th>\n",
       "      <td>Quite Popular</td>\n",
       "      <td>2</td>\n",
       "    </tr>\n",
       "    <tr>\n",
       "      <th>1</th>\n",
       "      <td>Popular</td>\n",
       "      <td>8</td>\n",
       "    </tr>\n",
       "    <tr>\n",
       "      <th>2</th>\n",
       "      <td>Very Popular</td>\n",
       "      <td>2</td>\n",
       "    </tr>\n",
       "  </tbody>\n",
       "</table>\n",
       "</div>"
      ],
      "text/plain": [
       "     TotalIncome  Frequency\n",
       "0  Quite Popular          2\n",
       "1        Popular          8\n",
       "2   Very Popular          2"
      ]
     },
     "execution_count": 199,
     "metadata": {},
     "output_type": "execute_result"
    }
   ],
   "source": [
    "res5"
   ]
  },
  {
   "cell_type": "code",
   "execution_count": 200,
   "metadata": {},
   "outputs": [
    {
     "data": {
      "image/png": "[encoded data removed]",
      "text/plain": [
       "<Figure size 432x288 with 1 Axes>"
      ]
     },
     "metadata": {
      "needs_background": "light"
     },
     "output_type": "display_data"
    }
   ],
   "source": [
    "plt.bar(res5[\"TotalIncome\"], res5[\"Frequency\"])\n",
    "plt.title(\"Frequency of NPC's Popularity\")\n",
    "plt.xlabel(\"Popularity\")\n",
    "plt.ylabel(\"Frequency\")\n",
    "plt.show()"
   ]
  },
  {
   "cell_type": "code",
   "execution_count": null,
   "metadata": {},
   "outputs": [],
   "source": []
  }
 ],
 "metadata": {
  "kernelspec": {
   "display_name": "Python 3",
   "language": "python",
   "name": "python3"
  },
  "language_info": {
   "codemirror_mode": {
    "name": "ipython",
    "version": 3
   },
   "file_extension": ".py",
   "mimetype": "text/x-python",
   "name": "python",
   "nbconvert_exporter": "python",
   "pygments_lexer": "ipython3",
   "version": "3.7.7"
  }
 },
 "nbformat": 4,
 "nbformat_minor": 4
}
